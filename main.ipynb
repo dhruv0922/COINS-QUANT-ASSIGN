{
 "cells": [
  {
   "cell_type": "code",
   "execution_count": 6,
   "metadata": {},
   "outputs": [],
   "source": [
    "#run pip install yfinance --user before running this file\n",
    "\n",
    "import yfinance as yf\n",
    "import pandas as pd"
   ]
  },
  {
   "cell_type": "code",
   "execution_count": 7,
   "metadata": {},
   "outputs": [],
   "source": [
    "#ticker symbol\n",
    "ticker = yf.Ticker(input('Enter ticker symbol: '))\n",
    "\n",
    "#TODO: PRINT INFO FOR TICKER SYMBOL"
   ]
  },
  {
   "cell_type": "code",
   "execution_count": 8,
   "metadata": {},
   "outputs": [
    {
     "name": "stdout",
     "output_type": "stream",
     "text": [
      "Here are the option chain dates\n",
      "2024-03-15\n",
      "2024-03-22\n",
      "2024-03-28\n",
      "2024-04-05\n",
      "2024-04-12\n",
      "2024-04-19\n",
      "2024-04-26\n",
      "2024-05-17\n",
      "2024-06-21\n",
      "2024-07-19\n",
      "2024-08-16\n",
      "2024-09-20\n",
      "2024-10-18\n",
      "2024-11-15\n",
      "2024-12-20\n",
      "2025-01-17\n",
      "2025-03-21\n",
      "2025-06-20\n",
      "2025-09-19\n",
      "2025-12-19\n",
      "2026-01-16\n",
      "2026-06-18\n"
     ]
    }
   ],
   "source": [
    "#expiration dates\n",
    "expDates = ticker.options\n",
    "\n",
    "print(\"Here are the option chain dates\")\n",
    "for date in expDates:\n",
    "  print(date)"
   ]
  },
  {
   "cell_type": "code",
   "execution_count": 9,
   "metadata": {},
   "outputs": [],
   "source": [
    "#call and put option data for front week\n",
    "opChain = ticker.option_chain(date = input('Enter desired expiration date: '))\n",
    "\n",
    "callsOrPuts = False #True for calls, False for puts\n",
    "df = ''\n",
    "if input(\"Do you want calls or puts? Enter 'c' for calls, 'p' for puts: \") == 'c':\n",
    "  df = pd.DataFrame(opChain.calls)\n",
    "else:\n",
    "  df = pd.DataFrame(opChain.puts)"
   ]
  },
  {
   "cell_type": "code",
   "execution_count": 26,
   "metadata": {},
   "outputs": [
    {
     "name": "stdout",
     "output_type": "stream",
     "text": [
      "Here are the available strike prices: \n",
      "This is the information for your contract: \n",
      "                                           1\n",
      "contractSymbol           AAPL240517C00025000\n",
      "lastTradeDate      2024-02-16 19:33:19+00:00\n",
      "strike                                  25.0\n",
      "lastPrice                             158.39\n",
      "bid                                    145.4\n",
      "ask                                   147.35\n",
      "change                                   0.0\n",
      "percentChange                            0.0\n",
      "volume                                     2\n",
      "openInterest                               1\n",
      "impliedVolatility                   2.315434\n",
      "inTheMoney                              True\n",
      "contractSize                         REGULAR\n",
      "currency                                 USD\n"
     ]
    }
   ],
   "source": [
    "strike = input(\"Enter the strike price: \")\n",
    "mask = df['strike'] == float(strike)\n",
    "print('This is the information for your contract: ')\n",
    "print(df[mask].transpose())"
   ]
  },
  {
   "cell_type": "code",
   "execution_count": 36,
   "metadata": {},
   "outputs": [
    {
     "name": "stdout",
     "output_type": "stream",
     "text": [
      "[['AAPL240517C00025000' Timestamp('2024-02-16 19:33:19+0000', tz='UTC')\n",
      "  25.0 158.39 145.4 147.35 0.0 0.0 2 1 2.3154338989257806 True 'REGULAR'\n",
      "  'USD']]\n",
      "The delta for your option is: 5\n"
     ]
    }
   ],
   "source": [
    "def blackScholesDelta(option, cOrP):\n",
    "  S = 180 #underlying price\n",
    "  K = option[2] #strike\n",
    "  r = 0.05 #risk free return \n",
    "  T = 10 #time to maturity\n",
    "  vol = 0.5 #underlying vol\n",
    "  \n",
    "  delta = 0\n",
    "  \n",
    "  if not cOrP:\n",
    "    return 1 - delta\n",
    "  return delta\n",
    "\n",
    "print(f\"The delta for your option is: {blackScholesDelta(df[mask].head().to_numpy(), callsOrPuts)}\")"
   ]
  }
 ],
 "metadata": {
  "kernelspec": {
   "display_name": "Python 3",
   "language": "python",
   "name": "python3"
  },
  "language_info": {
   "codemirror_mode": {
    "name": "ipython",
    "version": 3
   },
   "file_extension": ".py",
   "mimetype": "text/x-python",
   "name": "python",
   "nbconvert_exporter": "python",
   "pygments_lexer": "ipython3",
   "version": "3.10.4"
  }
 },
 "nbformat": 4,
 "nbformat_minor": 2
}
